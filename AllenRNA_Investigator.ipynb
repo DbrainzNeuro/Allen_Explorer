{
 "cells": [
  {
   "cell_type": "markdown",
   "metadata": {},
   "source": [
    "# Install the materials we need:"
   ]
  },
  {
   "cell_type": "code",
   "execution_count": null,
   "metadata": {},
   "outputs": [],
   "source": [
    "pip install -r requirements.txt"
   ]
  },
  {
   "cell_type": "code",
   "execution_count": 2,
   "metadata": {},
   "outputs": [],
   "source": [
    "\n",
    "####import needed modules\n",
    "from appJar import gui\n",
    "import pandas as pd\n",
    "import matplotlib"
   ]
  },
  {
   "cell_type": "code",
   "execution_count": 3,
   "metadata": {},
   "outputs": [
    {
     "name": "stdout",
     "output_type": "stream",
     "text": [
      "meds imported\n",
      "human_means imported\n"
     ]
    }
   ],
   "source": [
    "import zipfile\n",
    "\n",
    "zf = zipfile.ZipFile('meds.zip') \n",
    "meds = pd.read_csv(zf.open('meds.csv')).set_index('GeneID')\n",
    "print(\"meds imported\")\n",
    "zf2 = zipfile.ZipFile('human_means.zip')\n",
    "human_means = pd.read_csv(zf2.open('human_means.csv')).set_index('GeneID')\n",
    "print(\"human_means imported\")"
   ]
  },
  {
   "cell_type": "markdown",
   "metadata": {},
   "source": [
    "# Extract data from Allen Brain matrix"
   ]
  },
  {
   "cell_type": "code",
   "execution_count": 4,
   "metadata": {},
   "outputs": [],
   "source": [
    "# Get ndArray of all column names : MOUSE\n",
    "columnsNamesArr = meds.columns.values\n",
    "listOfColumnNames = list(columnsNamesArr)\n",
    "idx = list(meds.index)\n",
    "\n",
    "cellList = ['Lamp5', 'Lamp5 Lhx6', 'Snc','Sncg/Ndnf',\n",
    "            'Serpfin','Vip','Sst','Sst Chodl','Pvalb','PIR six',\n",
    "            'DG','RSP/ACA L4/5 IT','L2/3 IT Cxcl14','L2/3 IT Cdc14a',\n",
    "            'IT RHP Dcn','L2/3 IT Otof','L6 IT','L4 IT','L4/5 IT',\n",
    "            'L5 IT','RSP_ACA IT Scnn1a', 'Car3','L5 ET','SUB-Sp Ndst4',\n",
    "            'NP','Ly6g6e','RHP Cplx3','L6 CT','L6b','CA1sp/SUB-sp Kcnip1',\n",
    "            'CA1sp','CA3sp','CR','Astro','Oligo','VLMC','Endo','SMC',\n",
    "            'Macrophage']\n",
    "\n",
    "\n",
    "# Get ndArray of all column names: HUMAN\n",
    "human_columnsNamesArr = human_means.columns.values\n",
    "human_listOfColumnNames = list(human_columnsNamesArr)\n",
    "human_idx = list(human_means.index)\n"
   ]
  },
  {
   "cell_type": "markdown",
   "metadata": {},
   "source": [
    "# Set up user interface and get user selections"
   ]
  },
  {
   "cell_type": "code",
   "execution_count": 5,
   "metadata": {},
   "outputs": [
    {
     "name": "stderr",
     "output_type": "stream",
     "text": [
      "2020-04-30 15:40:01,335 appJar:WARNING [799/_checkMode]: Interactive mode is not fully tested, some features might not work.\n",
      "2020-04-30 15:40:01,346 appJar:WARNING [810/_checkMode]: iPython is not fully tested, some features might not work.\n"
     ]
    }
   ],
   "source": [
    "\n",
    "#############choose analysis parameters##################\n",
    "Outputs = {}\n",
    "\n",
    "def excel(excel):\n",
    "    return(excel)\n",
    "\n",
    "def launch(win):\n",
    "    app.showSubWindow(win, hide = True)\n",
    "    app.hideSubWindow(\"Starter\")\n",
    "\n",
    "def glaunch(win):\n",
    "    app.showSubWindow(win, hide = True)\n",
    "    if win == \"Mouse Genes\":\n",
    "        app.hideSubWindow(\"Mouse\")\n",
    "        Outputs['Cell Types'] = app.getListBox('mouse_cells')\n",
    "    if win == \"Human Genes\":\n",
    "        app.hideSubWindow(\"Human\")\n",
    "        Outputs['Cell Types'] = app.getListBox('human_cells')\n",
    "\n",
    "def press(btn):\n",
    "    app.stop()\n",
    "       \n",
    "def press_go(btn):\n",
    "    if btn == 'Submit Human':\n",
    "        geneslist =[]\n",
    "        geneslist.append(app.getEntry(\" Choose Gene 1\"))\n",
    "        geneslist.append(app.getEntry(\" Choose Gene 2\"))\n",
    "        geneslist.append(app.getEntry(\" Choose Gene 3\"))\n",
    "        geneslist.append(app.getEntry(\" Choose Gene 4\"))\n",
    "        geneslist.append(app.getEntry(\" Choose Gene 5\"))\n",
    "        geneslist.append(app.getEntry(\" Choose Gene 6\")) \n",
    "    elif btn == 'Submit Mouse':\n",
    "        geneslist =[]\n",
    "        geneslist.append(app.getEntry(\"Choose Gene 1 \"))\n",
    "        geneslist.append(app.getEntry(\"Choose Gene 2 \"))\n",
    "        geneslist.append(app.getEntry(\"Choose Gene 3 \"))\n",
    "        geneslist.append(app.getEntry(\"Choose Gene 4 \"))\n",
    "        geneslist.append(app.getEntry(\"Choose Gene 5 \"))\n",
    "        geneslist.append(app.getEntry(\"Choose Gene 6 \")) \n",
    "    Outputs['Genes'] = geneslist\n",
    "    Outputs['Species'] = str(btn)\n",
    "    app.stop()\n",
    "\n",
    "\n",
    "app = gui()\n",
    "app.startSubWindow(\"Starter\")\n",
    "# ##Initial gui\n",
    "app.setStretch(\"both\")\n",
    "app.setOnTop(stay=True)\n",
    "app.setFont(12)\n",
    "app.addLabel(\"l0\", \"Welcome: Browse the Allen Transcriptomics single cell RNAseq\", 0,0,4)\n",
    "app.addLabel(\"spacer1\", \" \")\n",
    "app.addLabel(\"spacer2\", \" \")\n",
    "app.addLabel(\"l0a\", \"Human, Mouse or Both?\", 1,0,4)\n",
    "app.setLabelBg(\"l0\", \"purple\")\n",
    "app.setLabelBg(\"l0a\", \"purple\")\n",
    "app.setLabelFg(\"l0\", \"white\")\n",
    "app.setLabelFg(\"l0a\", \"white\")\n",
    "app.addButtons([\"Human\", \"Mouse\"], launch)\n",
    "app.addCheckBox(\"Create excel file? If so, check box and name it below\")\n",
    "app.addEntry(\"Excel Name\")\n",
    "app.addButton(\"Cancel\", press)\n",
    "app.stopSubWindow()\n",
    "app.showSubWindow(\"Starter\", hide = True)\n",
    "\n",
    "#################Gene Choice Windows\n",
    "\n",
    "####define genes window for \"Human\"\n",
    "app.startSubWindow(\"Human Genes\")\n",
    "app.addLabel(\"l2c\", \" Choose Genes\", 4,0,4,0, \"white\")\n",
    "app.setLabelBg(\"l2c\", \"purple\")\n",
    "app.setLabelFg(\"l2c\", \"white\")\n",
    "app.addLabel(\"spaceragainc\", \" \",5,0,4)\n",
    "app.addLabel(\"title1c\", \"Gene 1:\")\n",
    "app.addAutoEntry(\" Choose Gene 1\", human_idx)\n",
    "app.setAutoEntryNumRows(\" Choose Gene 1\", 15)\n",
    "app.addLabel(\"title2c\", \"Gene 2:\")\n",
    "app.addAutoEntry(\" Choose Gene 2\", human_idx)\n",
    "app.setAutoEntryNumRows(\" Choose Gene 2\", 15)\n",
    "app.addLabel(\"title3c\", \"Gene 3:\")\n",
    "app.addAutoEntry(\" Choose Gene 3\", human_idx)\n",
    "app.setAutoEntryNumRows(\" Choose Gene 3\", 15)\n",
    "app.addLabel(\"title4c\", \"Gene 4:\")\n",
    "app.addAutoEntry(\" Choose Gene 4\", human_idx)\n",
    "app.setAutoEntryNumRows(\" Choose Gene 4\", 15)\n",
    "app.addLabel(\"title5c\", \"Gene 5:\")\n",
    "app.addAutoEntry(\" Choose Gene 5\", human_idx)\n",
    "app.setAutoEntryNumRows(\" Choose Gene 5\", 15)\n",
    "app.addLabel(\"title6c\", \"Gene 6:\")\n",
    "app.addAutoEntry(\" Choose Gene 6\", human_idx)\n",
    "app.setAutoEntryNumRows(\" Choose Gene 6\", 15)\n",
    "app.addLabel(\"spacer9c\", \" \")\n",
    "app.addButton(\"Submit Human\", press_go)\n",
    "app.addButton(\"Cancel Human\", press)\n",
    "app.addLabel(\"spacer0c\", \" \")\n",
    "app.stopSubWindow()\n",
    "\n",
    "####define genes window for \"Mouse\"\n",
    "app.startSubWindow(\"Mouse Genes\")\n",
    "app.addLabel(\"l2d\", \"Choose Genes \", 4,0,4,0, \"white\")\n",
    "app.setLabelBg(\"l2d\", \"purple\")\n",
    "app.setLabelFg(\"l2d\", \"white\")\n",
    "app.addLabel(\"spaceragaind\", \" \",5,0,4)\n",
    "app.addLabel(\"title1d\", \"Gene 1:\")\n",
    "app.addAutoEntry(\"Choose Gene 1 \", idx)\n",
    "app.setAutoEntryNumRows(\"Choose Gene 1 \", 15)\n",
    "app.addLabel(\"title2d\", \"Gene 2:\")\n",
    "app.addAutoEntry(\"Choose Gene 2 \", idx)\n",
    "app.setAutoEntryNumRows(\"Choose Gene 2 \", 15)\n",
    "app.addLabel(\"title3d\", \"Gene 3:\")\n",
    "app.addAutoEntry(\"Choose Gene 3 \", idx)\n",
    "app.setAutoEntryNumRows(\"Choose Gene 3 \", 15)\n",
    "app.addLabel(\"title4d\", \"Gene 4:\")\n",
    "app.addAutoEntry(\"Choose Gene 4 \", idx)\n",
    "app.setAutoEntryNumRows(\"Choose Gene 4 \", 15)\n",
    "app.addLabel(\"title5d\", \"Gene 5:\")\n",
    "app.addAutoEntry(\"Choose Gene 5 \", idx)\n",
    "app.setAutoEntryNumRows(\"Choose Gene 5 \", 15)\n",
    "app.addLabel(\"title6d\", \"Gene 6:\")\n",
    "app.addAutoEntry(\"Choose Gene 6 \", idx)\n",
    "app.setAutoEntryNumRows(\"Choose Gene 6 \", 15)\n",
    "app.addLabel(\"spacer9d\", \" \")\n",
    "app.addButton(\"Submit Mouse\", press_go)\n",
    "app.addButton(\"Cancel Mouse\", press)\n",
    "app.addLabel(\"spacer0d\", \" \")\n",
    "app.stopSubWindow()\n",
    "\n",
    "#########################cell types windows######################################\n",
    "###define human cell types window\n",
    "app.startSubWindow(\"Human\", modal=True)\n",
    "app.setOnTop(stay=True)\n",
    "app.addLabel(\"l1\", \"Select Human Cell Types:\", 0,0,1)\n",
    "app.addListBox(\"human_cells\", human_listOfColumnNames)\n",
    "app.setListBoxMulti(\"human_cells\", multi=True)\n",
    "app.addHorizontalSeparator(3,0,4)\n",
    "app.addButton(\"Human Genes\", glaunch)\n",
    "app.addButton(\" Cancel \", press)\n",
    "app.stopSubWindow()\n",
    "###define mouse cell types window\n",
    "app.startSubWindow(\"Mouse\", modal=True)\n",
    "app.setOnTop(stay=True)\n",
    "app.addLabel(\"l2\", \"Select Mouse Cell Types:\", 0,0,1)\n",
    "app.addListBox(\"mouse_cells\", cellList)\n",
    "app.setListBoxMulti(\"mouse_cells\", multi=True)\n",
    "app.addHorizontalSeparator(3,0,4)\n",
    "app.addButton(\"Mouse Genes\", glaunch)\n",
    "app.addButton(\"Cancel \", press)\n",
    "app.stopSubWindow()\n",
    "\n",
    "app.go()\n",
    "###########################################################3\n"
   ]
  },
  {
   "cell_type": "markdown",
   "metadata": {},
   "source": [
    "# Parse the data for graphing"
   ]
  },
  {
   "cell_type": "code",
   "execution_count": 6,
   "metadata": {},
   "outputs": [
    {
     "name": "stderr",
     "output_type": "stream",
     "text": [
      "C:\\Users\\dbaka\\Anaconda3\\lib\\site-packages\\ipykernel_launcher.py:45: DeprecationWarning: The default dtype for empty Series will be 'object' instead of 'float64' in a future version. Specify a dtype explicitly to silence this warning.\n"
     ]
    },
    {
     "ename": "ValueError",
     "evalue": "Axis limits cannot be NaN or Inf",
     "output_type": "error",
     "traceback": [
      "\u001b[1;31m---------------------------------------------------------------------------\u001b[0m",
      "\u001b[1;31mValueError\u001b[0m                                Traceback (most recent call last)",
      "\u001b[1;32m<ipython-input-6-c65df812b2ed>\u001b[0m in \u001b[0;36m<module>\u001b[1;34m\u001b[0m\n\u001b[0;32m     63\u001b[0m   \u001b[1;33m.\u001b[0m\u001b[0mset_xticklabels\u001b[0m\u001b[1;33m(\u001b[0m\u001b[0mOutputs\u001b[0m\u001b[1;33m[\u001b[0m\u001b[1;34m\"Genes\"\u001b[0m\u001b[1;33m]\u001b[0m\u001b[1;33m)\u001b[0m\u001b[1;33m\u001b[0m\u001b[1;33m\u001b[0m\u001b[0m\n\u001b[0;32m     64\u001b[0m   \u001b[1;33m.\u001b[0m\u001b[0mset_titles\u001b[0m\u001b[1;33m(\u001b[0m\u001b[1;34m\"{col_name}\"\u001b[0m\u001b[1;33m)\u001b[0m\u001b[1;33m\u001b[0m\u001b[1;33m\u001b[0m\u001b[0m\n\u001b[1;32m---> 65\u001b[1;33m   \u001b[1;33m.\u001b[0m\u001b[0mset\u001b[0m\u001b[1;33m(\u001b[0m\u001b[0mylim\u001b[0m\u001b[1;33m=\u001b[0m\u001b[1;33m(\u001b[0m\u001b[1;36m0\u001b[0m\u001b[1;33m,\u001b[0m \u001b[1;33m(\u001b[0m\u001b[0mmaxm\u001b[0m \u001b[1;33m+\u001b[0m \u001b[1;36m1\u001b[0m\u001b[1;33m)\u001b[0m\u001b[1;33m)\u001b[0m\u001b[1;33m)\u001b[0m\u001b[1;33m\u001b[0m\u001b[1;33m\u001b[0m\u001b[0m\n\u001b[0m\u001b[0;32m     66\u001b[0m   .despine(left=True))  \n\u001b[0;32m     67\u001b[0m \u001b[1;33m\u001b[0m\u001b[0m\n",
      "\u001b[1;32m~\\Anaconda3\\lib\\site-packages\\seaborn\\axisgrid.py\u001b[0m in \u001b[0;36mset\u001b[1;34m(self, **kwargs)\u001b[0m\n\u001b[0;32m     27\u001b[0m         \u001b[1;34m\"\"\"Set attributes on each subplot Axes.\"\"\"\u001b[0m\u001b[1;33m\u001b[0m\u001b[1;33m\u001b[0m\u001b[0m\n\u001b[0;32m     28\u001b[0m         \u001b[1;32mfor\u001b[0m \u001b[0max\u001b[0m \u001b[1;32min\u001b[0m \u001b[0mself\u001b[0m\u001b[1;33m.\u001b[0m\u001b[0maxes\u001b[0m\u001b[1;33m.\u001b[0m\u001b[0mflat\u001b[0m\u001b[1;33m:\u001b[0m\u001b[1;33m\u001b[0m\u001b[1;33m\u001b[0m\u001b[0m\n\u001b[1;32m---> 29\u001b[1;33m             \u001b[0max\u001b[0m\u001b[1;33m.\u001b[0m\u001b[0mset\u001b[0m\u001b[1;33m(\u001b[0m\u001b[1;33m**\u001b[0m\u001b[0mkwargs\u001b[0m\u001b[1;33m)\u001b[0m\u001b[1;33m\u001b[0m\u001b[1;33m\u001b[0m\u001b[0m\n\u001b[0m\u001b[0;32m     30\u001b[0m         \u001b[1;32mreturn\u001b[0m \u001b[0mself\u001b[0m\u001b[1;33m\u001b[0m\u001b[1;33m\u001b[0m\u001b[0m\n\u001b[0;32m     31\u001b[0m \u001b[1;33m\u001b[0m\u001b[0m\n",
      "\u001b[1;32m~\\Anaconda3\\lib\\site-packages\\matplotlib\\artist.py\u001b[0m in \u001b[0;36mset\u001b[1;34m(self, **kwargs)\u001b[0m\n\u001b[0;32m   1069\u001b[0m             sorted(kwargs.items(), reverse=True,\n\u001b[0;32m   1070\u001b[0m                    key=lambda x: (self._prop_order.get(x[0], 0), x[0])))\n\u001b[1;32m-> 1071\u001b[1;33m         \u001b[1;32mreturn\u001b[0m \u001b[0mself\u001b[0m\u001b[1;33m.\u001b[0m\u001b[0mupdate\u001b[0m\u001b[1;33m(\u001b[0m\u001b[0mprops\u001b[0m\u001b[1;33m)\u001b[0m\u001b[1;33m\u001b[0m\u001b[1;33m\u001b[0m\u001b[0m\n\u001b[0m\u001b[0;32m   1072\u001b[0m \u001b[1;33m\u001b[0m\u001b[0m\n\u001b[0;32m   1073\u001b[0m     \u001b[1;32mdef\u001b[0m \u001b[0mfindobj\u001b[0m\u001b[1;33m(\u001b[0m\u001b[0mself\u001b[0m\u001b[1;33m,\u001b[0m \u001b[0mmatch\u001b[0m\u001b[1;33m=\u001b[0m\u001b[1;32mNone\u001b[0m\u001b[1;33m,\u001b[0m \u001b[0minclude_self\u001b[0m\u001b[1;33m=\u001b[0m\u001b[1;32mTrue\u001b[0m\u001b[1;33m)\u001b[0m\u001b[1;33m:\u001b[0m\u001b[1;33m\u001b[0m\u001b[1;33m\u001b[0m\u001b[0m\n",
      "\u001b[1;32m~\\Anaconda3\\lib\\site-packages\\matplotlib\\artist.py\u001b[0m in \u001b[0;36mupdate\u001b[1;34m(self, props)\u001b[0m\n\u001b[0;32m    972\u001b[0m \u001b[1;33m\u001b[0m\u001b[0m\n\u001b[0;32m    973\u001b[0m         \u001b[1;32mwith\u001b[0m \u001b[0mcbook\u001b[0m\u001b[1;33m.\u001b[0m\u001b[0m_setattr_cm\u001b[0m\u001b[1;33m(\u001b[0m\u001b[0mself\u001b[0m\u001b[1;33m,\u001b[0m \u001b[0meventson\u001b[0m\u001b[1;33m=\u001b[0m\u001b[1;32mFalse\u001b[0m\u001b[1;33m)\u001b[0m\u001b[1;33m:\u001b[0m\u001b[1;33m\u001b[0m\u001b[1;33m\u001b[0m\u001b[0m\n\u001b[1;32m--> 974\u001b[1;33m             \u001b[0mret\u001b[0m \u001b[1;33m=\u001b[0m \u001b[1;33m[\u001b[0m\u001b[0m_update_property\u001b[0m\u001b[1;33m(\u001b[0m\u001b[0mself\u001b[0m\u001b[1;33m,\u001b[0m \u001b[0mk\u001b[0m\u001b[1;33m,\u001b[0m \u001b[0mv\u001b[0m\u001b[1;33m)\u001b[0m \u001b[1;32mfor\u001b[0m \u001b[0mk\u001b[0m\u001b[1;33m,\u001b[0m \u001b[0mv\u001b[0m \u001b[1;32min\u001b[0m \u001b[0mprops\u001b[0m\u001b[1;33m.\u001b[0m\u001b[0mitems\u001b[0m\u001b[1;33m(\u001b[0m\u001b[1;33m)\u001b[0m\u001b[1;33m]\u001b[0m\u001b[1;33m\u001b[0m\u001b[1;33m\u001b[0m\u001b[0m\n\u001b[0m\u001b[0;32m    975\u001b[0m \u001b[1;33m\u001b[0m\u001b[0m\n\u001b[0;32m    976\u001b[0m         \u001b[1;32mif\u001b[0m \u001b[0mlen\u001b[0m\u001b[1;33m(\u001b[0m\u001b[0mret\u001b[0m\u001b[1;33m)\u001b[0m\u001b[1;33m:\u001b[0m\u001b[1;33m\u001b[0m\u001b[1;33m\u001b[0m\u001b[0m\n",
      "\u001b[1;32m~\\Anaconda3\\lib\\site-packages\\matplotlib\\artist.py\u001b[0m in \u001b[0;36m<listcomp>\u001b[1;34m(.0)\u001b[0m\n\u001b[0;32m    972\u001b[0m \u001b[1;33m\u001b[0m\u001b[0m\n\u001b[0;32m    973\u001b[0m         \u001b[1;32mwith\u001b[0m \u001b[0mcbook\u001b[0m\u001b[1;33m.\u001b[0m\u001b[0m_setattr_cm\u001b[0m\u001b[1;33m(\u001b[0m\u001b[0mself\u001b[0m\u001b[1;33m,\u001b[0m \u001b[0meventson\u001b[0m\u001b[1;33m=\u001b[0m\u001b[1;32mFalse\u001b[0m\u001b[1;33m)\u001b[0m\u001b[1;33m:\u001b[0m\u001b[1;33m\u001b[0m\u001b[1;33m\u001b[0m\u001b[0m\n\u001b[1;32m--> 974\u001b[1;33m             \u001b[0mret\u001b[0m \u001b[1;33m=\u001b[0m \u001b[1;33m[\u001b[0m\u001b[0m_update_property\u001b[0m\u001b[1;33m(\u001b[0m\u001b[0mself\u001b[0m\u001b[1;33m,\u001b[0m \u001b[0mk\u001b[0m\u001b[1;33m,\u001b[0m \u001b[0mv\u001b[0m\u001b[1;33m)\u001b[0m \u001b[1;32mfor\u001b[0m \u001b[0mk\u001b[0m\u001b[1;33m,\u001b[0m \u001b[0mv\u001b[0m \u001b[1;32min\u001b[0m \u001b[0mprops\u001b[0m\u001b[1;33m.\u001b[0m\u001b[0mitems\u001b[0m\u001b[1;33m(\u001b[0m\u001b[1;33m)\u001b[0m\u001b[1;33m]\u001b[0m\u001b[1;33m\u001b[0m\u001b[1;33m\u001b[0m\u001b[0m\n\u001b[0m\u001b[0;32m    975\u001b[0m \u001b[1;33m\u001b[0m\u001b[0m\n\u001b[0;32m    976\u001b[0m         \u001b[1;32mif\u001b[0m \u001b[0mlen\u001b[0m\u001b[1;33m(\u001b[0m\u001b[0mret\u001b[0m\u001b[1;33m)\u001b[0m\u001b[1;33m:\u001b[0m\u001b[1;33m\u001b[0m\u001b[1;33m\u001b[0m\u001b[0m\n",
      "\u001b[1;32m~\\Anaconda3\\lib\\site-packages\\matplotlib\\artist.py\u001b[0m in \u001b[0;36m_update_property\u001b[1;34m(self, k, v)\u001b[0m\n\u001b[0;32m    969\u001b[0m                     raise AttributeError('{!r} object has no property {!r}'\n\u001b[0;32m    970\u001b[0m                                          .format(type(self).__name__, k))\n\u001b[1;32m--> 971\u001b[1;33m                 \u001b[1;32mreturn\u001b[0m \u001b[0mfunc\u001b[0m\u001b[1;33m(\u001b[0m\u001b[0mv\u001b[0m\u001b[1;33m)\u001b[0m\u001b[1;33m\u001b[0m\u001b[1;33m\u001b[0m\u001b[0m\n\u001b[0m\u001b[0;32m    972\u001b[0m \u001b[1;33m\u001b[0m\u001b[0m\n\u001b[0;32m    973\u001b[0m         \u001b[1;32mwith\u001b[0m \u001b[0mcbook\u001b[0m\u001b[1;33m.\u001b[0m\u001b[0m_setattr_cm\u001b[0m\u001b[1;33m(\u001b[0m\u001b[0mself\u001b[0m\u001b[1;33m,\u001b[0m \u001b[0meventson\u001b[0m\u001b[1;33m=\u001b[0m\u001b[1;32mFalse\u001b[0m\u001b[1;33m)\u001b[0m\u001b[1;33m:\u001b[0m\u001b[1;33m\u001b[0m\u001b[1;33m\u001b[0m\u001b[0m\n",
      "\u001b[1;32m~\\Anaconda3\\lib\\site-packages\\matplotlib\\axes\\_base.py\u001b[0m in \u001b[0;36mset_ylim\u001b[1;34m(self, bottom, top, emit, auto, ymin, ymax)\u001b[0m\n\u001b[0;32m   3621\u001b[0m         \u001b[0mself\u001b[0m\u001b[1;33m.\u001b[0m\u001b[0m_process_unit_info\u001b[0m\u001b[1;33m(\u001b[0m\u001b[0mydata\u001b[0m\u001b[1;33m=\u001b[0m\u001b[1;33m(\u001b[0m\u001b[0mbottom\u001b[0m\u001b[1;33m,\u001b[0m \u001b[0mtop\u001b[0m\u001b[1;33m)\u001b[0m\u001b[1;33m)\u001b[0m\u001b[1;33m\u001b[0m\u001b[1;33m\u001b[0m\u001b[0m\n\u001b[0;32m   3622\u001b[0m         \u001b[0mbottom\u001b[0m \u001b[1;33m=\u001b[0m \u001b[0mself\u001b[0m\u001b[1;33m.\u001b[0m\u001b[0m_validate_converted_limits\u001b[0m\u001b[1;33m(\u001b[0m\u001b[0mbottom\u001b[0m\u001b[1;33m,\u001b[0m \u001b[0mself\u001b[0m\u001b[1;33m.\u001b[0m\u001b[0mconvert_yunits\u001b[0m\u001b[1;33m)\u001b[0m\u001b[1;33m\u001b[0m\u001b[1;33m\u001b[0m\u001b[0m\n\u001b[1;32m-> 3623\u001b[1;33m         \u001b[0mtop\u001b[0m \u001b[1;33m=\u001b[0m \u001b[0mself\u001b[0m\u001b[1;33m.\u001b[0m\u001b[0m_validate_converted_limits\u001b[0m\u001b[1;33m(\u001b[0m\u001b[0mtop\u001b[0m\u001b[1;33m,\u001b[0m \u001b[0mself\u001b[0m\u001b[1;33m.\u001b[0m\u001b[0mconvert_yunits\u001b[0m\u001b[1;33m)\u001b[0m\u001b[1;33m\u001b[0m\u001b[1;33m\u001b[0m\u001b[0m\n\u001b[0m\u001b[0;32m   3624\u001b[0m \u001b[1;33m\u001b[0m\u001b[0m\n\u001b[0;32m   3625\u001b[0m         \u001b[0mold_bottom\u001b[0m\u001b[1;33m,\u001b[0m \u001b[0mold_top\u001b[0m \u001b[1;33m=\u001b[0m \u001b[0mself\u001b[0m\u001b[1;33m.\u001b[0m\u001b[0mget_ylim\u001b[0m\u001b[1;33m(\u001b[0m\u001b[1;33m)\u001b[0m\u001b[1;33m\u001b[0m\u001b[1;33m\u001b[0m\u001b[0m\n",
      "\u001b[1;32m~\\Anaconda3\\lib\\site-packages\\matplotlib\\axes\\_base.py\u001b[0m in \u001b[0;36m_validate_converted_limits\u001b[1;34m(self, limit, convert)\u001b[0m\n\u001b[0;32m   3156\u001b[0m             if (isinstance(converted_limit, Real)\n\u001b[0;32m   3157\u001b[0m                     and not np.isfinite(converted_limit)):\n\u001b[1;32m-> 3158\u001b[1;33m                 \u001b[1;32mraise\u001b[0m \u001b[0mValueError\u001b[0m\u001b[1;33m(\u001b[0m\u001b[1;34m\"Axis limits cannot be NaN or Inf\"\u001b[0m\u001b[1;33m)\u001b[0m\u001b[1;33m\u001b[0m\u001b[1;33m\u001b[0m\u001b[0m\n\u001b[0m\u001b[0;32m   3159\u001b[0m             \u001b[1;32mreturn\u001b[0m \u001b[0mconverted_limit\u001b[0m\u001b[1;33m\u001b[0m\u001b[1;33m\u001b[0m\u001b[0m\n\u001b[0;32m   3160\u001b[0m \u001b[1;33m\u001b[0m\u001b[0m\n",
      "\u001b[1;31mValueError\u001b[0m: Axis limits cannot be NaN or Inf"
     ]
    },
    {
     "data": {
      "image/png": "[encoded data removed]",
      "text/plain": [
       "<Figure size 648x360 with 3 Axes>"
      ]
     },
     "metadata": {
      "needs_background": "light"
     },
     "output_type": "display_data"
    }
   ],
   "source": [
    "\n",
    "#########################################################\n",
    "Excel = app.getCheckBox(\"Create excel file? If so, check box and name it below\")\n",
    "\n",
    "##clean up gene list in case you chose less than 6 genes#######\n",
    "Outputs['Genes'] = list(filter(None, Outputs['Genes']))\n",
    "\n",
    "####split the medians data by cell and gene selection############\n",
    "from functools import partial, reduce \n",
    "GeneByRegion ={}\n",
    "myRegion = {}\n",
    "\n",
    "if  Outputs['Species'] == \"Submit Mouse\":\n",
    "    for p in Outputs['Cell Types']:\n",
    "        myRegion[p] = meds.filter(regex=p)\n",
    "        myRegion[p]  = myRegion[p].loc[Outputs['Genes']]\n",
    "        m_name = \"mean_\" + p\n",
    "        sem_name = \"sem_\" + p\n",
    "        regtemp = myRegion[p]\n",
    "        regtemp[m_name] = myRegion[p].mean(axis=1)\n",
    "        regtemp[sem_name] = myRegion[p].sem(axis=1)\n",
    "        my_reduce = partial(pd.merge, on='GeneID', how='outer')                                                              \n",
    "        output = reduce(my_reduce, myRegion.values())\n",
    "        GeneByRegion[p] = output.iloc[:,-2]\n",
    "    Outputs['means'] = output[[col for col in output.columns if \"mean\" in col]].reset_index().set_index('GeneID')\n",
    "    # Outputs['sems'] = output[[col for col in output.columns if \"sem\" in col]].reset_index().set_index('GeneID')\n",
    "    # # from toolz import interleave\n",
    "    # # mean_and_sem = pd.concat([means, sems], axis=1)[list(interleave([means, sems]))]\n",
    "                      \n",
    "if  Outputs['Species'] == \"Submit Human\":\n",
    "    for p in Outputs['Cell Types']:  \n",
    "        myRegion[p] = human_means.filter(regex=p)\n",
    "        myRegion[p]  = myRegion[p].loc[Outputs['Genes']]\n",
    "        my_reduce = partial(pd.merge, on='GeneID', how='outer')                                                              \n",
    "        output = reduce(my_reduce, myRegion.values())\n",
    "        GeneByRegion[p] = output.iloc[:,-2]\n",
    "    Outputs['means'] = output[[col for col in output.columns]].reset_index().set_index('GeneID')\n",
    "\n",
    "\n",
    "\n",
    "\n",
    "##make a seaborn catplot from it - make the dict into a dataframe and work from that\n",
    "import seaborn as sns\n",
    "plotgenes = pd.DataFrame.from_dict(GeneByRegion).reset_index()\n",
    "genesarray0 = plotgenes['GeneID']\n",
    "genesarray = pd.Series()\n",
    "for i in range(len(Outputs[\"Cell Types\"])):\n",
    "    genesarray = genesarray.append(genesarray0)\n",
    "genesarray=genesarray.tolist()    \n",
    "df2 = pd.concat([\n",
    "    plotgenes[Outputs['Cell Types']].melt(value_name='Expression Level')], \n",
    "    axis=1)\n",
    "df2['Gene'] = genesarray\n",
    "maxm = max(df2[\"Expression Level\"])\n",
    "\n"
   ]
  },
  {
   "cell_type": "markdown",
   "metadata": {},
   "source": [
    "# Graph it!"
   ]
  },
  {
   "cell_type": "code",
   "execution_count": null,
   "metadata": {},
   "outputs": [],
   "source": [
    "\n",
    "###Now graph it####################################################\n",
    "    \n",
    "sns.set_palette(\"Blues\")\n",
    "g = sns.catplot(x=\"Gene\", y=\"Expression Level\", col=\"variable\",\n",
    "                data=df2, saturation=.9,\n",
    "                kind=\"bar\", ci=None, aspect=.6, edgecolor=\"k\", linewidth=1)\n",
    "(g.set_axis_labels(\"\", \"Expression\")\n",
    "  .set_xticklabels(Outputs[\"Genes\"])\n",
    "  .set_titles(\"{col_name}\")\n",
    "  .set(ylim=(0, (maxm + 1)))\n",
    "  .despine(left=True))  \n",
    "\n",
    "for ax in g.axes.ravel():\n",
    "    ax.set_xticklabels(ax.get_xticklabels(), rotation=45, horizontalalignment='right')\n",
    "    for p in ax.patches:\n",
    "        ax.annotate('%.2f' % p.get_height(), (p.get_x() + p.get_width() / 2., p.get_height()), \n",
    "\n",
    "                    ha='center', va='center', xytext=(0, 8), \n",
    "                    textcoords='offset points')\n"
   ]
  },
  {
   "cell_type": "markdown",
   "metadata": {},
   "source": [
    "# Export Excel file of results if requested"
   ]
  },
  {
   "cell_type": "code",
   "execution_count": 7,
   "metadata": {},
   "outputs": [],
   "source": [
    "###Create an excel file ##################\n",
    "if Excel == True:\n",
    "    FileName = app.getEntry(\"Excel Name\")\n",
    "    FileName = FileName + \".xlsx\"\n",
    "    df2.to_excel(FileName) "
   ]
  }
 ],
 "metadata": {
  "kernelspec": {
   "display_name": "Python 3",
   "language": "python",
   "name": "python3"
  },
  "language_info": {
   "codemirror_mode": {
    "name": "ipython",
    "version": 3
   },
   "file_extension": ".py",
   "mimetype": "text/x-python",
   "name": "python",
   "nbconvert_exporter": "python",
   "pygments_lexer": "ipython3",
   "version": "3.7.6"
  }
 },
 "nbformat": 4,
 "nbformat_minor": 4
}
