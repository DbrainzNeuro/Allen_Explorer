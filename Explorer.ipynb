{
 "cells": [
  {
   "cell_type": "code",
   "execution_count": 1,
   "metadata": {},
   "outputs": [
    {
     "ename": "ModuleNotFoundError",
     "evalue": "No module named 'dropbox'",
     "output_type": "error",
     "traceback": [
      "\u001b[1;31m---------------------------------------------------------------------------\u001b[0m",
      "\u001b[1;31mModuleNotFoundError\u001b[0m                       Traceback (most recent call last)",
      "\u001b[1;32m<ipython-input-1-42e6af203c3e>\u001b[0m in \u001b[0;36m<module>\u001b[1;34m\u001b[0m\n\u001b[0;32m      2\u001b[0m \u001b[1;32mimport\u001b[0m \u001b[0mpandas\u001b[0m \u001b[1;32mas\u001b[0m \u001b[0mpd\u001b[0m\u001b[1;33m\u001b[0m\u001b[1;33m\u001b[0m\u001b[0m\n\u001b[0;32m      3\u001b[0m \u001b[1;32mimport\u001b[0m \u001b[0mio\u001b[0m\u001b[1;33m\u001b[0m\u001b[1;33m\u001b[0m\u001b[0m\n\u001b[1;32m----> 4\u001b[1;33m \u001b[1;32mimport\u001b[0m \u001b[0mdropbox\u001b[0m\u001b[1;33m\u001b[0m\u001b[1;33m\u001b[0m\u001b[0m\n\u001b[0m\u001b[0;32m      5\u001b[0m \u001b[1;32mimport\u001b[0m \u001b[0mseaborn\u001b[0m \u001b[1;32mas\u001b[0m \u001b[0msns\u001b[0m\u001b[1;33m\u001b[0m\u001b[1;33m\u001b[0m\u001b[0m\n\u001b[0;32m      6\u001b[0m \u001b[1;32mfrom\u001b[0m \u001b[0mIPython\u001b[0m\u001b[1;33m.\u001b[0m\u001b[0mdisplay\u001b[0m \u001b[1;32mimport\u001b[0m \u001b[0mdisplay\u001b[0m\u001b[1;33m\u001b[0m\u001b[1;33m\u001b[0m\u001b[0m\n",
      "\u001b[1;31mModuleNotFoundError\u001b[0m: No module named 'dropbox'"
     ]
    }
   ],
   "source": [
    "import ipywidgets as widgets\n",
    "import pandas as pd\n",
    "import io\n",
    "import dropbox\n",
    "import seaborn as sns\n",
    "from IPython.display import display"
   ]
  },
  {
   "cell_type": "markdown",
   "metadata": {},
   "source": [
    "# Extract the data from dropbox: When program is in the Binder, can maybe just put files directly in there instead of this, as its slow"
   ]
  },
  {
   "cell_type": "code",
   "execution_count": null,
   "metadata": {},
   "outputs": [],
   "source": [
    "\n",
    "DBX = dropbox.Dropbox('bb3H-rx_L8IAAAAAAAAPdR77ZBO4BYfjelCVEH8kkSj04MX4vx4RrPFfN0cfJ3tm')\n",
    "\n",
    "_, res = DBX.files_download(\"/human_means.csv\")\n",
    "\n",
    "with io.BytesIO(res.content) as stream:\n",
    "    human_means = pd.read_csv(stream, index_col=0)\n",
    "\n",
    "_, res2 = DBX.files_download(\"/mouse_medians.csv\")\n",
    "with io.BytesIO(res2.content) as stream:\n",
    "    meds = pd.read_csv(stream, index_col=0)   "
   ]
  },
  {
   "cell_type": "code",
   "execution_count": null,
   "metadata": {},
   "outputs": [],
   "source": [
    "# Get all gene and cell type names: HUMAN\n",
    "human_listOfColumnNames = list(human_means.columns.values)\n",
    "human_idx = list(human_means.index)\n",
    "# Get all gene and cell type: MOUSE\n",
    "mouse_listOfColumnNames = list(meds.columns.values)\n",
    "idx = list(meds.index)"
   ]
  },
  {
   "cell_type": "markdown",
   "metadata": {},
   "source": [
    "# define table style so words don't overlap enterboxes, set initial button widgets"
   ]
  },
  {
   "cell_type": "markdown",
   "metadata": {},
   "source": [
    "# need to make venn/ expression graph options mutually exclusive"
   ]
  },
  {
   "cell_type": "code",
   "execution_count": 136,
   "metadata": {},
   "outputs": [],
   "source": []
  },
  {
   "cell_type": "code",
   "execution_count": 12,
   "metadata": {
    "scrolled": true
   },
   "outputs": [],
   "source": [
    "\n",
    "table_style = {'description_width': 'initial'}\n",
    "title = widgets.Label('Wecome to the Explorer',style=table_style)\n",
    "choicelabel = widgets.Label('Analyze species:')\n",
    "msCells = widgets.ToggleButton(\n",
    "    value=False,\n",
    "    description='Mouse',\n",
    "    disabled=False,\n",
    "    button_style='', # 'success', 'info', 'warning', 'danger' or ''\n",
    "    tooltip='Description',\n",
    "    icon='check',\n",
    "    style=table_style)\n",
    "huCells = widgets.ToggleButton(\n",
    "    value=False,\n",
    "    description='Human',\n",
    "    disabled=False,\n",
    "    button_style='', # 'success', 'info', 'warning', 'danger' or ''\n",
    "    tooltip='Description',\n",
    "    icon='check',\n",
    "    style=table_style)\n",
    "\n",
    "\n",
    "analysislabel = widgets.Label('Output Type:')\n",
    "expgraph = widgets.ToggleButton(\n",
    "    value=False,\n",
    "    description='Graph of Expression Values by Cell Cluster',\n",
    "    disabled=False,\n",
    "    button_style='', # 'success', 'info', 'warning', 'danger' or ''\n",
    "    tooltip='Description',\n",
    "    icon='check')\n",
    "\n",
    "venn = widgets.ToggleButton(\n",
    "    value=False,\n",
    "    description='Venn Diagram',\n",
    "    disabled=False,\n",
    "    button_style='', # 'success', 'info', 'warning', 'danger' or ''\n",
    "    tooltip='Description',\n",
    "    icon='check')\n"
   ]
  },
  {
   "cell_type": "markdown",
   "metadata": {},
   "source": [
    "# dropdown menu for multi selection of cell types- make it diabled until you choose species, then enable checked one(s)"
   ]
  },
  {
   "cell_type": "code",
   "execution_count": 10,
   "metadata": {},
   "outputs": [],
   "source": [
    "mscelllabel = widgets.Label('Mouse Cell Clusters:')\n",
    "msCells_drop =widgets.SelectMultiple(\n",
    "    options=mouse_listOfColumnNames,\n",
    "    disabled=False,\n",
    "    rows=6,\n",
    "    style=table_style) \n",
    "\n",
    "hucelllabel = widgets.Label('Human Cell Clusters:')\n",
    "huCells_drop =widgets.SelectMultiple(\n",
    "    options=human_listOfColumnNames,\n",
    "    disabled=False,\n",
    "    rows=6,\n",
    "    style=table_style) \n"
   ]
  },
  {
   "cell_type": "markdown",
   "metadata": {},
   "source": [
    "# Gene selection fields- need to make it so that if both mouse and human are checked only common genes are displayed- if ms then ms, if human then human"
   ]
  },
  {
   "cell_type": "code",
   "execution_count": 6,
   "metadata": {},
   "outputs": [],
   "source": [
    "genetitle = widgets.Label('Choose Genes:')\n",
    "\n",
    "ms_Gene1 = widgets.Combobox(\n",
    "    options= idx,\n",
    "    description='Gene 1',\n",
    "    placeholder='Type here',\n",
    "    style=table_style)\n",
    "ms_Gene2 = widgets.Combobox(\n",
    "    options= idx,\n",
    "    description='Gene 2',\n",
    "    placeholder='Type here',\n",
    "    style=table_style)\n",
    "ms_Gene3 = widgets.Combobox(\n",
    "    options= idx,\n",
    "    description='Gene 3',\n",
    "    placeholder='Type here',\n",
    "    style=table_style)\n",
    "ms_Gene4 = widgets.Combobox(\n",
    "    options= idx,\n",
    "    description='Gene 4',\n",
    "    placeholder='Type here',\n",
    "    style=table_style)\n",
    "ms_Gene5 = widgets.Combobox(\n",
    "    options= idx,\n",
    "    description='Gene 5',\n",
    "    placeholder='Type here',\n",
    "    style=table_style)\n",
    "ms_Gene6 = widgets.Combobox(\n",
    "    options= idx,\n",
    "    description='Gene 6',\n",
    "    placeholder='Type here',\n",
    "    style=table_style)\n"
   ]
  },
  {
   "cell_type": "code",
   "execution_count": 7,
   "metadata": {},
   "outputs": [],
   "source": [
    "choices = widgets.VBox([analysislabel, expgraph, venn, choicelabel,msCells, huCells])\n",
    "#species_choices = widgets.VBox([choicelabel,msCells, huCells])\n",
    "genes = widgets.VBox([genetitle, ms_Gene1, ms_Gene2, ms_Gene3, ms_Gene4, ms_Gene5, ms_Gene6])\n",
    "cellitems = widgets.VBox([mscelllabel, msCells_drop, hucelllabel, huCells_drop])"
   ]
  },
  {
   "cell_type": "code",
   "execution_count": 8,
   "metadata": {},
   "outputs": [],
   "source": [
    "from ipywidgets import GridspecLayout"
   ]
  },
  {
   "cell_type": "code",
   "execution_count": 13,
   "metadata": {
    "scrolled": true
   },
   "outputs": [
    {
     "data": {
      "application/vnd.jupyter.widget-view+json": {
       "model_id": "b27df5170ba946929693530fb45cad4a",
       "version_major": 2,
       "version_minor": 0
      },
      "text/plain": [
       "GridspecLayout(children=(VBox(children=(Label(value='Output Type:'), ToggleButton(value=False, description='Gr…"
      ]
     },
     "metadata": {},
     "output_type": "display_data"
    }
   ],
   "source": [
    "# create a 10x2 grid layout\n",
    "grid = GridspecLayout(3, 3,grid_gap='20px',\n",
    "          height=\"1000px\",\n",
    "          width=\"120%\")\n",
    "# fill it in with widgets\n",
    "grid[0, 0] = choices\n",
    "grid[0, 1] = cellitems\n",
    "grid[0, 2] = genes\n",
    "\n",
    "display(grid)"
   ]
  },
  {
   "cell_type": "code",
   "execution_count": null,
   "metadata": {},
   "outputs": [],
   "source": []
  },
  {
   "cell_type": "code",
   "execution_count": null,
   "metadata": {},
   "outputs": [],
   "source": []
  },
  {
   "cell_type": "markdown",
   "metadata": {},
   "source": [
    "# Get user entries"
   ]
  },
  {
   "cell_type": "code",
   "execution_count": 76,
   "metadata": {},
   "outputs": [
    {
     "name": "stdout",
     "output_type": "stream",
     "text": [
      "('Lamp5_2', 'Lamp5_3', 'Lamp5_4', 'Lamp5_5')\n",
      "['Adcyap1', 'Adcyap1r1']\n"
     ]
    }
   ],
   "source": [
    "cells = msCells_drop.value\n",
    "geneslist = [ms_Gene1.value, ms_Gene2.value, ms_Gene3.value, ms_Gene4.value, ms_Gene5.value, ms_Gene6.value]\n",
    "geneslist = list(filter(None, geneslist))\n",
    "print(cells)\n",
    "print(geneslist)"
   ]
  },
  {
   "cell_type": "code",
   "execution_count": null,
   "metadata": {},
   "outputs": [],
   "source": []
  },
  {
   "cell_type": "code",
   "execution_count": 4,
   "metadata": {},
   "outputs": [],
   "source": [
    "\n",
    "def enable(button):\n",
    "    if button == \"Mouse\":\n",
    "        app.setTabbedFrameDisabledTab(\"AllenExplorer\", \"Mouse Cell Types\", disabled=False)\n",
    "        app.setTabbedFrameSelectedTab(\"AllenExplorer\", \"Mouse Cell Types\", callFunction=False)\n",
    "    if button == \"Human\":\n",
    "        app.setTabbedFrameDisabledTab(\"AllenExplorer\", \"Human Cell Types\", disabled=False)\n",
    "        app.setTabbedFrameSelectedTab(\"AllenExplorer\", \"Human Cell Types\", callFunction=False)\n",
    "\n",
    "def glaunch(win):\n",
    "    if win == \"Mouse Genes\":\n",
    "        app.setTabbedFrameDisabledTab(\"AllenExplorer\", \"Mouse Genes\", disabled=False)\n",
    "        app.setTabbedFrameSelectedTab(\"AllenExplorer\", \"Mouse Genes\")\n",
    "        Outputs['Cell Types'] = app.getListBox('mouse_cells')\n",
    "    if win == \"Human Genes\":\n",
    "        app.setTabbedFrameDisabledTab(\"AllenExplorer\", \"Human Genes\", disabled=False)\n",
    "        app.setTabbedFrameSelectedTab(\"AllenExplorer\", \"Human Genes\")\n",
    "        Outputs['Cell Types'] = app.getListBox('human_cells')\n",
    "        return(idx)\n",
    "\n",
    "def press(btn):\n",
    "    app.stop()        \n",
    "        \n",
    "def press_go(btn):\n",
    "    if btn == 'Submit Human':\n",
    "        geneslist =[]\n",
    "        geneslist.append(app.getEntry(\"Choose Gene 1\"))\n",
    "        geneslist.append(app.getEntry(\"Choose Gene 2\"))\n",
    "        geneslist.append(app.getEntry(\"Choose Gene 3\"))\n",
    "        geneslist.append(app.getEntry(\"Choose Gene 4\"))\n",
    "        geneslist.append(app.getEntry(\"Choose Gene 5\"))\n",
    "        geneslist.append(app.getEntry(\"Choose Gene 6\")) \n",
    "    elif btn == 'Submit Mouse':\n",
    "        geneslist =[]\n",
    "        geneslist.append(app.getEntry(\"Choose Gene 1 \"))\n",
    "        geneslist.append(app.getEntry(\"Choose Gene 2 \"))\n",
    "        geneslist.append(app.getEntry(\"Choose Gene 3 \"))\n",
    "        geneslist.append(app.getEntry(\"Choose Gene 4 \"))\n",
    "        geneslist.append(app.getEntry(\"Choose Gene 5 \"))\n",
    "        geneslist.append(app.getEntry(\"Choose Gene 6 \")) \n",
    "    Outputs['Genes'] = geneslist\n",
    "    Outputs['Species'] = str(btn)\n",
    "    app.stop()"
   ]
  },
  {
   "cell_type": "code",
   "execution_count": 5,
   "metadata": {},
   "outputs": [
    {
     "name": "stderr",
     "output_type": "stream",
     "text": [
      "2020-05-04 09:33:25,269 appJar:WARNING [799/_checkMode]: Interactive mode is not fully tested, some features might not work.\n",
      "2020-05-04 09:33:25,287 appJar:WARNING [810/_checkMode]: iPython is not fully tested, some features might not work.\n"
     ]
    }
   ],
   "source": [
    "Outputs = {} \n",
    "\n",
    "app = gui()\n",
    "\n",
    "app.setBg(\"lightblue\")\n",
    "app.startTabbedFrame(\"AllenExplorer\")\n",
    "\n",
    "app.startTab(\"Choose Species\")\n",
    "app.addLabel(\"l\", \"Choose Species\")\n",
    "app.addButtons([\"Human\", \"Mouse\"], enable)\n",
    "app.addCheckBox(\"Create excel file? If so, check box and name it below\")\n",
    "app.addEntry(\"Excel Name\")\n",
    "app.stopTab()\n",
    "\n",
    "app.startTab(\"Mouse Cell Types\")\n",
    "app.addLabel(\"l2\", \"Select Cell Types\")\n",
    "app.addListBox(\"mouse_cells\", mouse_listOfColumnNames)\n",
    "app.setListBoxMulti(\"mouse_cells\", multi=True)\n",
    "app.addButton(\"Mouse Genes\", glaunch)\n",
    "app.addButton(\"Cancel \", press)\n",
    "app.stopTab()\n",
    "\n",
    "\n",
    "app.startTab(\"Human Cell Types\")\n",
    "app.addLabel(\"l3\", \"Select Cell Types\")\n",
    "app.addListBox(\"human_cells\", human_listOfColumnNames)\n",
    "app.setListBoxMulti(\"human_cells\", multi=True)\n",
    "app.addButton(\"Human Genes\", glaunch)\n",
    "app.addButton(\"Cancel\", press)\n",
    "app.stopTab()\n",
    "\n",
    "\n",
    "app.startTab(\"Mouse Genes\")\n",
    "app.addLabel(\"l2e\", \"Choose Genes \", 4,0,4,0, \"white\")\n",
    "app.addLabel(\"spaceragainde\", \" \",5,0,4)\n",
    "app.addLabel(\"title1e\", \"Gene 1:\")\n",
    "app.addAutoEntry(\"Choose Gene 1 \", idx)\n",
    "app.setAutoEntryNumRows(\"Choose Gene 1 \", 15)\n",
    "app.addLabel(\"title2e\", \"Gene 2:\")\n",
    "app.addAutoEntry(\"Choose Gene 2 \", idx)\n",
    "app.setAutoEntryNumRows(\"Choose Gene 2 \", 15)\n",
    "app.addLabel(\"title3e\", \"Gene 3:\")\n",
    "app.addAutoEntry(\"Choose Gene 3 \", idx)\n",
    "app.setAutoEntryNumRows(\"Choose Gene 3 \", 15)\n",
    "app.addLabel(\"title4e\", \"Gene 4:\")\n",
    "app.addAutoEntry(\"Choose Gene 4 \", idx)\n",
    "app.setAutoEntryNumRows(\"Choose Gene 4 \", 15)\n",
    "app.addLabel(\"title5e\", \"Gene 5:\")\n",
    "app.addAutoEntry(\"Choose Gene 5 \", idx)\n",
    "app.setAutoEntryNumRows(\"Choose Gene 5 \", 15)\n",
    "app.addLabel(\"title6e\", \"Gene 6:\")\n",
    "app.addAutoEntry(\"Choose Gene 6 \", idx)\n",
    "app.setAutoEntryNumRows(\"Choose Gene 6 \", 15)\n",
    "app.addLabel(\"spacer9e\", \" \")\n",
    "app.addButton(\"Submit Mouse\", press_go)\n",
    "app.addButton(\"Cancel Mouse\", press)\n",
    "app.addLabel(\"spacer0e\", \" \")\n",
    "app.stopTab()\n",
    "\n",
    "\n",
    "app.startTab(\"Human Genes\")\n",
    "app.addLabel(\"l2d\", \"Choose Genes\", 4,0,4,0, \"white\")\n",
    "app.addLabel(\"spaceragaind\", \" \",5,0,4)\n",
    "app.addLabel(\"title1d\", \"Gene 1:\")\n",
    "app.addAutoEntry(\"Choose Gene 1\", human_idx)\n",
    "app.setAutoEntryNumRows(\"Choose Gene 1 \", 15)\n",
    "app.addLabel(\"title2d\", \"Gene 2:\")\n",
    "app.addAutoEntry(\"Choose Gene 2\", human_idx)\n",
    "app.setAutoEntryNumRows(\"Choose Gene 2 \", 15)\n",
    "app.addLabel(\"title3d\", \"Gene 3:\")\n",
    "app.addAutoEntry(\"Choose Gene 3\", human_idx)\n",
    "app.setAutoEntryNumRows(\"Choose Gene 3 \", 15)\n",
    "app.addLabel(\"title4d\", \"Gene 4:\")\n",
    "app.addAutoEntry(\"Choose Gene 4\", human_idx)\n",
    "app.setAutoEntryNumRows(\"Choose Gene 4 \", 15)\n",
    "app.addLabel(\"title5d\", \"Gene 5:\")\n",
    "app.addAutoEntry(\"Choose Gene 5\", human_idx)\n",
    "app.setAutoEntryNumRows(\"Choose Gene 5 \", 15)\n",
    "app.addLabel(\"title6d\", \"Gene 6:\")\n",
    "app.addAutoEntry(\"Choose Gene 6\", human_idx)\n",
    "app.setAutoEntryNumRows(\"Choose Gene 6 \", 15)\n",
    "app.addLabel(\"spacer9d\", \" \")\n",
    "app.addButton(\"Submit Human\", press_go)\n",
    "app.addButton(\"Cancel Human\", press)\n",
    "app.addLabel(\"spacer0d\", \" \")\n",
    "app.stopTab()\n",
    "\n",
    "app.setTabbedFrameDisabledTab(\"AllenExplorer\", \"Human Genes\", disabled=True)\n",
    "app.setTabbedFrameDisabledTab(\"AllenExplorer\", \"Mouse Genes\", disabled=True)\n",
    "app.setTabbedFrameDisabledTab(\"AllenExplorer\", \"Mouse Cell Types\", disabled=True)\n",
    "app.setTabbedFrameDisabledTab(\"AllenExplorer\", \"Human Cell Types\", disabled=True)\n",
    "app.stopTabbedFrame()\n",
    "\n",
    "app.go()"
   ]
  },
  {
   "cell_type": "code",
   "execution_count": 12,
   "metadata": {},
   "outputs": [],
   "source": [
    "\n",
    "Excel = app.getCheckBox(\"Create excel file? If so, check box and name it below\")\n",
    "\n",
    "# ##clean up gene list in case you chose less than 6 genes#######\n",
    "Outputs['Genes'] = list(filter(None, Outputs['Genes']))\n",
    "\n",
    "\n",
    "# ####split the medians data by cell and gene selection############\n",
    "myRegion = {}\n",
    "\n",
    "if  Outputs['Species'] == \"Submit Mouse\":\n",
    "    for p in Outputs['Cell Types']:\n",
    "        myRegion[p] = meds[p]\n",
    "        myRegion[p]  = myRegion[p].loc[Outputs['Genes']]\n",
    "  \n",
    "        \n",
    "                   \n",
    "if  Outputs['Species'] == \"Submit Human\":\n",
    "    for p in Outputs['Cell Types']:  \n",
    "        myRegion[p] = human_means[p]\n",
    "        myRegion[p]  = myRegion[p].loc[Outputs['Genes']]\n",
    "\n",
    "        "
   ]
  },
  {
   "cell_type": "code",
   "execution_count": 13,
   "metadata": {},
   "outputs": [],
   "source": [
    "# ##make a seaborn catplot from it - make the dict into a dataframe and work from that\n",
    "\n",
    "plotgenes = pd.DataFrame.from_dict(myRegion).reset_index()\n",
    "genesarray0 = plotgenes['GeneID']\n",
    "genesarray = pd.Series(dtype='float64')\n",
    "for i in range(len(Outputs[\"Cell Types\"])):\n",
    "    genesarray = genesarray.append(genesarray0)\n",
    "genesarray=genesarray.tolist()    \n",
    "df2 = pd.concat([\n",
    "    plotgenes[Outputs['Cell Types']].melt(value_name='Expression Level')], \n",
    "    axis=1)\n",
    "df2['Gene'] = genesarray\n",
    "maxm = max(df2[\"Expression Level\"])\n"
   ]
  },
  {
   "cell_type": "code",
   "execution_count": 14,
   "metadata": {},
   "outputs": [],
   "source": [
    "###Now graph it####################################################\n",
    "    \n",
    "sns.set_palette(\"Blues\")\n",
    "g = sns.catplot(x=\"Gene\", y=\"Expression Level\", col=\"variable\",\n",
    "                data=df2, saturation=1,\n",
    "                kind=\"bar\", ci=None, aspect=.6, edgecolor=\"k\", linewidth=1)\n",
    "(g.set_axis_labels(\"\", \"Expression\")\n",
    "  .set_xticklabels(Outputs[\"Genes\"])\n",
    "  .set_titles(\"{col_name}\")\n",
    "  .set(ylim=(0, (maxm + 1)))\n",
    "  .despine(left=True))  \n",
    "\n",
    "for ax in g.axes.ravel():\n",
    "    ax.set_xticklabels(ax.get_xticklabels(), rotation=45, horizontalalignment='right')\n",
    "    for p in ax.patches:\n",
    "        ax.annotate('%.2f' % p.get_height(), (p.get_x() + p.get_width() / 2., p.get_height()), \n",
    "\n",
    "                    ha='center', va='center', xytext=(0, 8), \n",
    "                    textcoords='offset points')"
   ]
  },
  {
   "cell_type": "code",
   "execution_count": 15,
   "metadata": {},
   "outputs": [],
   "source": [
    "##Create an excel file ##################\n",
    "if Excel == True:\n",
    "    FileName = app.getEntry(\"Excel Name\")\n",
    "    FileName = FileName + \".xlsx\"\n",
    "    df2.to_excel(FileName) "
   ]
  },
  {
   "cell_type": "code",
   "execution_count": null,
   "metadata": {},
   "outputs": [],
   "source": []
  }
 ],
 "metadata": {
  "kernelspec": {
   "display_name": "Python 3",
   "language": "python",
   "name": "python3"
  },
  "language_info": {
   "codemirror_mode": {
    "name": "ipython",
    "version": 3
   },
   "file_extension": ".py",
   "mimetype": "text/x-python",
   "name": "python",
   "nbconvert_exporter": "python",
   "pygments_lexer": "ipython3",
   "version": "3.7.4"
  }
 },
 "nbformat": 4,
 "nbformat_minor": 4
}
